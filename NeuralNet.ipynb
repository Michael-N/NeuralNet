{
 "cells": [
  {
   "cell_type": "markdown",
   "metadata": {},
   "source": [
    "# Neural Net \n",
    "- Code By Michael Sherif Naguib\n",
    "- license: MIT open source\n",
    "- Date: 6/10/19\n",
    "- @University of Tulsa\n",
    "- Description: Use Keras to recognize handwritten digits from the MNIST dataset while learning about neural nets\n",
    "                NOTE!!!! --> this code was inspired by https://towardsdatascience.com/image-classification-in-10-minutes-with-mnist-dataset-54c35b77a38d\n",
    "                THANKS and CREDIT to the author above! (the model used here is similar although has some key differences including the optimizer used)"
   ]
  },
  {
   "cell_type": "code",
   "execution_count": 10,
   "metadata": {},
   "outputs": [],
   "source": [
    "#Imports\n",
    "import keras\n",
    "import numpy as np\n",
    "mnist = keras.datasets.mnist"
   ]
  },
  {
   "cell_type": "markdown",
   "metadata": {},
   "source": [
    "### Create the Model\n",
    "- Convolution Kernel 3x3 Stride 1 with 28 Filters and ReLu activation\n",
    "- Max Pooling Pool size 2,2\n",
    "- Flatten \n",
    "- Dense 100 neurons with ReLu activation\n",
    "- Dropout 10%\n",
    "- Dense 10 neurons with Softmax activation\n",
    "- uses: SGD Nesterov Momentum lr=0.01, decay=1e-6, momentum=0.9 with categorical crossentropy"
   ]
  },
  {
   "cell_type": "code",
   "execution_count": 9,
   "metadata": {},
   "outputs": [],
   "source": [
    "#=== Init the model\n",
    "model = keras.models.Sequential()\n",
    "#=== Add the layers\n",
    "#(input) convolution\n",
    "model.add(keras.layers.Conv2D(28, kernel_size=(3,3),\n",
    "                              strides=1,\n",
    "                              activation='relu',\n",
    "                              input_shape=(28,28,1)))\n",
    "#pooling\n",
    "model.add(keras.layers.MaxPooling2D(pool_size=(2, 2), strides=None, padding='valid', data_format=None))\n",
    "#Flatten\n",
    "model.add(keras.layers.Flatten())\n",
    "#Add Dense layer\n",
    "model.add(keras.layers.Dense(100, activation='relu'))\n",
    "#Dropout\n",
    "model.add(keras.layers.Dropout(0.1))\n",
    "#softmax\n",
    "model.add(keras.layers.Dense(10, activation='softmax'))\n"
   ]
  },
  {
   "cell_type": "markdown",
   "metadata": {},
   "source": [
    "### Compile the Model"
   ]
  },
  {
   "cell_type": "code",
   "execution_count": 3,
   "metadata": {},
   "outputs": [],
   "source": [
    "#=== compile the model\n",
    "#Stochastic Gradient descent (usinng exmaple from keras docs)\n",
    "sgd = keras.optimizers.SGD(lr=0.01, decay=1e-6, momentum=0.9, nesterov=True)\n",
    "#compile\n",
    "model.compile(optimizer=sgd, \n",
    "              loss='categorical_crossentropy', \n",
    "              metrics=['accuracy'])"
   ]
  },
  {
   "cell_type": "markdown",
   "metadata": {},
   "source": [
    "### Preformat the Data for Keras"
   ]
  },
  {
   "cell_type": "code",
   "execution_count": 4,
   "metadata": {},
   "outputs": [],
   "source": [
    "#Load the training data\n",
    "(x_train, y_train), (x_test, y_test) = mnist.load_data()"
   ]
  },
  {
   "cell_type": "code",
   "execution_count": 5,
   "metadata": {},
   "outputs": [],
   "source": [
    "#=== preprocess the data...\n",
    "\n",
    "# input shape\n",
    "x_train = x_train.reshape(x_train.shape[0],28,28,1)\n",
    "x_test = x_test.reshape(x_test.shape[0],28,28,1)\n",
    "#input datatype\n",
    "x_train=x_train.astype('float32')\n",
    "x_test=x_test.astype('float32')\n",
    "#scale\n",
    "x_train /= 255\n",
    "x_test /= 255\n",
    "#outputs\n",
    "y_train =  keras.utils.np_utils.to_categorical(y_train, 10)\n",
    "y_test = keras.utils.np_utils.to_categorical(y_test, 10)"
   ]
  },
  {
   "cell_type": "markdown",
   "metadata": {},
   "source": [
    "### Train the Model\n",
    "- using the mnist dataset\n",
    "- 60k images for training and 10k for testing"
   ]
  },
  {
   "cell_type": "code",
   "execution_count": 6,
   "metadata": {},
   "outputs": [
    {
     "name": "stdout",
     "output_type": "stream",
     "text": [
      "WARNING:tensorflow:From C:\\Users\\socce\\AppData\\Local\\Continuum\\anaconda3\\envs\\General\\lib\\site-packages\\tensorflow\\python\\ops\\math_ops.py:3066: to_int32 (from tensorflow.python.ops.math_ops) is deprecated and will be removed in a future version.\n",
      "Instructions for updating:\n",
      "Use tf.cast instead.\n",
      "Epoch 1/2\n",
      "60000/60000 [==============================] - 93s 2ms/step - loss: 0.3692 - acc: 0.8843\n",
      "Epoch 2/2\n",
      "60000/60000 [==============================] - 95s 2ms/step - loss: 0.1534 - acc: 0.9541\n"
     ]
    },
    {
     "data": {
      "text/plain": [
       "<keras.callbacks.History at 0x20593977550>"
      ]
     },
     "execution_count": 6,
     "metadata": {},
     "output_type": "execute_result"
    }
   ],
   "source": [
    "model.fit(x=x_train,y=y_train,epochs=2)"
   ]
  },
  {
   "cell_type": "markdown",
   "metadata": {},
   "source": [
    "### Test the Model"
   ]
  },
  {
   "cell_type": "code",
   "execution_count": 7,
   "metadata": {},
   "outputs": [
    {
     "name": "stdout",
     "output_type": "stream",
     "text": [
      "10000/10000 [==============================] - 7s 669us/step\n"
     ]
    },
    {
     "data": {
      "text/plain": [
       "[0.07208402691879309, 0.9776]"
      ]
     },
     "execution_count": 7,
     "metadata": {},
     "output_type": "execute_result"
    }
   ],
   "source": [
    "model.evaluate(x_test, y_test)"
   ]
  },
  {
   "cell_type": "markdown",
   "metadata": {},
   "source": [
    "### Results\n",
    "- Training Data: 60k 28x28 mnist images\n",
    "- Testing Data: 10k (different) 28x28 mnist images\n",
    "- Accuracy: ~97% on testing data after 2 epoch\n"
   ]
  },
  {
   "cell_type": "code",
   "execution_count": 8,
   "metadata": {},
   "outputs": [],
   "source": [
    "#keras.utils.plot_model(model, to_file='model.png')#for printing the model architecture"
   ]
  },
  {
   "cell_type": "code",
   "execution_count": null,
   "metadata": {},
   "outputs": [],
   "source": []
  }
 ],
 "metadata": {
  "kernelspec": {
   "display_name": "Python 3",
   "language": "python",
   "name": "python3"
  },
  "language_info": {
   "codemirror_mode": {
    "name": "ipython",
    "version": 3
   },
   "file_extension": ".py",
   "mimetype": "text/x-python",
   "name": "python",
   "nbconvert_exporter": "python",
   "pygments_lexer": "ipython3",
   "version": "3.7.3"
  }
 },
 "nbformat": 4,
 "nbformat_minor": 2
}
